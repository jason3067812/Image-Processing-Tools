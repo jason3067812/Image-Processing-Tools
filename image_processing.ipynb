{
 "cells": [
  {
   "cell_type": "markdown",
   "metadata": {},
   "source": [
    "## show image"
   ]
  },
  {
   "cell_type": "code",
   "execution_count": 2,
   "metadata": {},
   "outputs": [
    {
     "name": "stdout",
     "output_type": "stream",
     "text": [
      "(110, 188, 3)\n"
     ]
    }
   ],
   "source": [
    "import cv2\n",
    "import os\n",
    "import random\n",
    "import numpy as np\n",
    "\n",
    "img = cv2.imread(r\"D:\\test\\test2.jpg\")\n",
    "print(img.shape)\n",
    "\n",
    "# 顯示圖片\n",
    "cv2.imshow('My Image', img)\n",
    "\n",
    "# 按下任意鍵則關閉所有視窗\n",
    "cv2.waitKey(0)\n",
    "cv2.destroyAllWindows()"
   ]
  },
  {
   "cell_type": "markdown",
   "metadata": {},
   "source": [
    "# 調整對比度"
   ]
  },
  {
   "cell_type": "code",
   "execution_count": 10,
   "metadata": {},
   "outputs": [
    {
     "data": {
      "text/plain": [
       "True"
      ]
     },
     "execution_count": 10,
     "metadata": {},
     "output_type": "execute_result"
    }
   ],
   "source": [
    "import cv2\n",
    "import os\n",
    "import random\n",
    "import numpy as np\n",
    "\n",
    "\n",
    "img_g = cv2.imread(r\"D:\\test\\test2.jpg\")\n",
    "new_path = r\"D:\\test\"\n",
    "\n",
    "#調整對比度\n",
    "alpha=1\n",
    "beta=0\n",
    "adjust=cv2.convertScaleAbs(img_g,alpha=alpha,beta=beta)\n",
    "cv2.imwrite(new_path + \"/\" + \"e.jpg\", adjust)\n",
    "\n",
    "#轉灰階\n",
    "img2=cv2.cvtColor(adjust,cv2.COLOR_RGB2GRAY)\n",
    "cv2.imwrite(new_path + \"/\" + \"f.bmp\", img2)"
   ]
  },
  {
   "cell_type": "markdown",
   "metadata": {},
   "source": [
    "# 膨脹侵蝕和二值化"
   ]
  },
  {
   "cell_type": "code",
   "execution_count": 8,
   "metadata": {},
   "outputs": [
    {
     "data": {
      "text/plain": [
       "True"
      ]
     },
     "execution_count": 8,
     "metadata": {},
     "output_type": "execute_result"
    }
   ],
   "source": [
    "#二值化(<105:0,>105:255)\n",
    "ret,binary=cv2.threshold(img2,110,255,cv2.THRESH_BINARY)\n",
    "cv2.imwrite(new_path + \"/\" + \"g.bmp\", binary)\n",
    "\n",
    "\n",
    "#膨脹侵蝕\n",
    "kernel=np.ones((4,4),np.uint8)\n",
    "binary2=cv2.dilate(binary,kernel,iterations=2)\n",
    "binary2=cv2.erode(binary2,kernel,iterations=1)\n",
    "cv2.imwrite(new_path + \"/\" + \"h.bmp\", binary2)\n",
    "\n"
   ]
  },
  {
   "cell_type": "markdown",
   "metadata": {},
   "source": [
    "# 裁切方形圖片區域"
   ]
  },
  {
   "cell_type": "code",
   "execution_count": null,
   "metadata": {
    "collapsed": true
   },
   "outputs": [],
   "source": [
    "from PIL import Image\n",
    "from PIL import ImageFilter\n",
    "import matplotlib.image as mpimg\n",
    "import matplotlib.pyplot as plt   # 加载Matplotlib.pyplot存进plt\n",
    "\n",
    "\n",
    "path=\"D:\\\\test14\\\\original\\\\2020_08_02_05_38_16.bmp\"\n",
    "lena = mpimg.imread(path)\n",
    "colorImage=Image.open(path)\n",
    "\n",
    "plt.imshow(lena) # 顯示圖片\n",
    "#plt.axis('off') # 不顯示座標軸\n",
    "plt.show()\n",
    "\n",
    "width, height = colorImage.size \n",
    "print(width, height)"
   ]
  },
  {
   "cell_type": "code",
   "execution_count": null,
   "metadata": {
    "collapsed": true
   },
   "outputs": [],
   "source": [
    "left = 0\n",
    "top = 0\n",
    "right = 480\n",
    "bottom = 60\n",
    "\n",
    "im1 = colorImage.crop((left, top, right, bottom)) \n",
    "\n",
    "plt.imshow(im1) # 顯示圖片\n",
    "#plt.axis('off') # 不顯示座標軸\n",
    "plt.show()\n"
   ]
  },
  {
   "cell_type": "markdown",
   "metadata": {},
   "source": [
    "# 裁切不規則四邊形圖片區域"
   ]
  },
  {
   "cell_type": "code",
   "execution_count": null,
   "metadata": {
    "collapsed": true
   },
   "outputs": [],
   "source": [
    "from PIL import Image\n",
    "from PIL import ImageFilter\n",
    "import matplotlib.image as mpimg\n",
    "import matplotlib.pyplot as plt   # 加载Matplotlib.pyplot存进plt\n",
    "\n",
    "\n",
    "path=r\"D:\\test\\res_2020_10_22_00_08_33.jpg\"\n",
    "lena = mpimg.imread(path)\n",
    "colorImage=Image.open(path)\n",
    "\n",
    "plt.imshow(lena) # 顯示圖片\n",
    "#plt.axis('off') # 不顯示座標軸\n",
    "plt.show()\n",
    "\n",
    "width, height = colorImage.size \n",
    "print(width, height)"
   ]
  },
  {
   "cell_type": "code",
   "execution_count": null,
   "metadata": {
    "collapsed": true
   },
   "outputs": [],
   "source": [
    "import numpy as np\n",
    "import cv2\n",
    "\n",
    "pts = np.array([[12,14],[204,14],[204,68],[12,68]])\n",
    "## (1) Crop the bounding rect\n",
    "rect = cv2.boundingRect(pts)\n",
    "x,y,w,h = rect\n",
    "croped = lena[y:y+h, x:x+w].copy()\n",
    "\n",
    "plt.imshow(croped) # 顯示圖片\n",
    "#plt.axis('off') # 不顯示座標軸\n",
    "plt.show()"
   ]
  },
  {
   "cell_type": "markdown",
   "metadata": {},
   "source": [
    "# 翻轉圖像"
   ]
  },
  {
   "cell_type": "code",
   "execution_count": null,
   "metadata": {
    "collapsed": true
   },
   "outputs": [],
   "source": [
    "import cv2    # 加载OpenCV\n",
    "import matplotlib.pyplot as plt   # 加载Matplotlib.pyplot存进plt\n",
    "import numpy as np\n",
    "\n",
    "def imread(image):\n",
    "    image=cv2.imread(image)\n",
    "    image=cv2.cvtColor(image,cv2.COLOR_BGR2RGB)\n",
    "    image=image.astype(np.uint8)\n",
    "    return np.array(image)\n",
    "\n",
    "def show(image):\n",
    "    plt.imshow(image)\n",
    "    plt.axis('off')\n",
    "    plt.show()\n",
    "\n",
    "img = imread(r\"D:\\OCR\\id\\final_test\\test_img\\2020_08_02_10_45_02.bmp\")    # 读取/加载 图片\n",
    "\n",
    "show(img)"
   ]
  },
  {
   "cell_type": "code",
   "execution_count": null,
   "metadata": {
    "collapsed": true
   },
   "outputs": [],
   "source": [
    "img_flip_along_x = cv2.flip(img, 0)  # 把围绕X轴翻转的图像存进img_flip_along_x\n",
    "show(img_flip_along_x)  # 显示img_flip_along_x图像"
   ]
  },
  {
   "cell_type": "code",
   "execution_count": null,
   "metadata": {
    "collapsed": true
   },
   "outputs": [],
   "source": [
    "# 同時繞xy翻轉圖像(順時針180度)\n",
    "img_flip_along_xy = cv2.flip(img, -1)\n",
    "show(img_flip_along_xy )"
   ]
  },
  {
   "cell_type": "code",
   "execution_count": null,
   "metadata": {
    "collapsed": true
   },
   "outputs": [],
   "source": [
    "import cv2\n",
    "import os\n",
    "import random\n",
    "import matplotlib.pyplot as plt   # 加载Matplotlib.pyplot存进plt\n",
    "import numpy as np\n",
    "\n",
    "def imread(image):\n",
    "    image=cv2.imread(image)\n",
    "    image=cv2.cvtColor(image,cv2.COLOR_BGR2RGB)\n",
    "    image=image.astype(np.uint8)\n",
    "    return np.array(image)\n",
    "\n",
    "\n",
    "# 修改路徑\n",
    "directory_name=\"D:\\\\OCR\\\\id\\\\test\"\n",
    "new_directory_name='D:\\\\OCR\\\\id\\\\test_re'\n",
    "\n",
    "\n",
    "count=0\n",
    "for filename in os.listdir(directory_name):\n",
    "    \n",
    "    count=count+1\n",
    "\n",
    "    img = imread(directory_name + \"\\\\\" + filename)  \n",
    "    img_flip_along_xy = cv2.flip(img, -1)\n",
    "    cv2.imwrite(new_directory_name + \"\\\\\" + \"aaa\"+filename, img_flip_along_xy)\n",
    "    \n",
    "print(\"finish\")\n",
    "print(f\"total number:{count}\")"
   ]
  },
  {
   "cell_type": "markdown",
   "metadata": {},
   "source": [
    "## check image type"
   ]
  },
  {
   "cell_type": "code",
   "execution_count": null,
   "metadata": {
    "collapsed": true
   },
   "outputs": [],
   "source": [
    "import cv2\n",
    "import os\n",
    "import random\n",
    "import numpy as np\n",
    "\n",
    "# 修改路徑\n",
    "directory_name=\"D:/test14/original\"\n",
    "\n",
    "count=0\n",
    "for filename in os.listdir(directory_name):\n",
    "    \n",
    "    count=count+1\n",
    "    \n",
    "    img = cv2.imread(directory_name + \"/\" + filename)\n",
    "    size = img.shape\n",
    "    print(size)\n",
    "    \n",
    "print(\"finish\")\n",
    "print(f\"total number:{count}\")"
   ]
  },
  {
   "cell_type": "markdown",
   "metadata": {},
   "source": [
    "## grayscale"
   ]
  },
  {
   "cell_type": "code",
   "execution_count": null,
   "metadata": {
    "collapsed": true
   },
   "outputs": [],
   "source": [
    "import cv2\n",
    "import os\n",
    "import random\n",
    "import numpy as np\n",
    "\n",
    "# 修改路徑\n",
    "directory_name=\"D:/test\"\n",
    "new_directory_name='D:/test14'\n",
    "\n",
    "\n",
    "count=0\n",
    "for filename in os.listdir(directory_name):\n",
    "    \n",
    "    count=count+1\n",
    "\n",
    "    img = cv2.imread(directory_name + \"/\" + filename,0)   \n",
    "    cv2.imwrite(new_directory_name + \"/\" + filename, img)\n",
    "    \n",
    "print(\"finish\")\n",
    "print(f\"total number:{count}\")"
   ]
  },
  {
   "cell_type": "markdown",
   "metadata": {},
   "source": [
    "## padding"
   ]
  },
  {
   "cell_type": "code",
   "execution_count": null,
   "metadata": {
    "collapsed": true
   },
   "outputs": [],
   "source": [
    "import cv2\n",
    "import os\n",
    "import random\n",
    "import numpy as np\n",
    "\n",
    "# 修改路徑\n",
    "directory_name=\"D:\\\\OCR\\\\id\\\\test\"\n",
    "new_directory_name='D:\\\\OCR\\\\id\\\\padding'\n",
    "\n",
    "\n",
    "count=0\n",
    "for filename in os.listdir(directory_name):\n",
    "    \n",
    "    count=count+1\n",
    "\n",
    "    img = cv2.imread(directory_name + \"/\" + filename,0)\n",
    "    size = img.shape\n",
    "    x=size[1]\n",
    "    y=size[0]\n",
    "    z=x-y\n",
    "    \n",
    "    BLACK = [0,0,0]\n",
    "    constant = cv2.copyMakeBorder(img,0,z,0,0,cv2.BORDER_CONSTANT,value=BLACK)\n",
    "    cv2.imwrite(new_directory_name + \"/\" + filename, constant)\n",
    "    \n",
    "print(\"finish\")\n",
    "print(f\"total number:{count}\")"
   ]
  },
  {
   "cell_type": "code",
   "execution_count": null,
   "metadata": {
    "collapsed": true
   },
   "outputs": [],
   "source": [
    "import cv2\n",
    "import os\n",
    "import random\n",
    "import numpy as np\n",
    "\n",
    "img = cv2.imread(r\"D:\\OCR\\id\\final_test\\error_id\\fakeB_trueF\\2020_08_10_05_39_20_2.jpg\")\n",
    "print(img.shape)\n",
    "\n",
    "\n",
    "BLACK = [0,0,0]\n",
    "a=512-37-50\n",
    "b=512-55\n",
    "\n",
    "constant = cv2.copyMakeBorder(img,0,b,50,a,cv2.BORDER_CONSTANT,value=BLACK)\n",
    "path=r\"D:\\OCR\\id\\final_test\\newpredict\"\n",
    "\n",
    "cv2.imwrite(path+\"\\sss.jpg\",constant)\n"
   ]
  },
  {
   "cell_type": "code",
   "execution_count": null,
   "metadata": {
    "collapsed": true
   },
   "outputs": [],
   "source": [
    "import cv2\n",
    "import os\n",
    "import random\n",
    "import numpy as np\n",
    "\n",
    "img = cv2.imread(r\"D:\\OCR\\id\\final_test\\newpredict\\wert.jpg\")\n",
    "print(img.shape)\n",
    "size = img.shape\n",
    "x=size[1]\n",
    "y=size[0]\n",
    "z=int(x-y)\n",
    "\n",
    "\n",
    "BLACK = [0,0,0]\n",
    "\n",
    "constant = cv2.copyMakeBorder(img,0,z,0,0,cv2.BORDER_CONSTANT,value=BLACK)\n",
    "path=r\"D:\\OCR\\id\\final_test\\newpredict\"\n",
    "\n",
    "cv2.imwrite(path+\"\\lll.jpg\",constant)"
   ]
  },
  {
   "cell_type": "markdown",
   "metadata": {},
   "source": [
    "# 圖片拼接"
   ]
  },
  {
   "cell_type": "code",
   "execution_count": null,
   "metadata": {
    "collapsed": true
   },
   "outputs": [],
   "source": [
    "import  cv2\n",
    "img1 = cv2.imread(r\"D:\\OCR\\id\\final_test\\new\\2020_08_03_03_41_02_2.jpg\")\n",
    "img2 = cv2.imread(r\"D:\\OCR\\id\\final_test\\new\\2020_08_06_23_01_03_2.jpg\")\n",
    "img3 = cv2.imread(r\"D:\\OCR\\id\\final_test\\new\\2020_08_07_10_08_06_2.jpg\")\n",
    "img4 = cv2.imread(r\"D:\\OCR\\id\\final_test\\new\\a.bmp\")\n",
    "img5 = cv2.imread(r\"D:\\OCR\\id\\final_test\\new\\c.bmp\")\n",
    "img6 = cv2.imread(r\"D:\\OCR\\id\\final_test\\new\\d.bmp\")\n",
    "img7 = cv2.imread(r\"D:\\OCR\\id\\final_test\\new\\2020_08_10_05_39_20_2.jpg\")\n",
    "img8 = cv2.imread(r\"D:\\OCR\\id\\final_test\\new\\b.bmp\")\n",
    "\n",
    "imgf = cv2.hconcat([img1,img2,img3,img4,img5,img6,img7,img8])#水平拼接\n",
    "path=r\"D:\\OCR\\id\\final_test\\newpredict\"\n",
    "cv2.imwrite(path + \"\\wert.jpg\", imgf)"
   ]
  },
  {
   "cell_type": "markdown",
   "metadata": {},
   "source": [
    "# resize"
   ]
  },
  {
   "cell_type": "code",
   "execution_count": 1,
   "metadata": {},
   "outputs": [
    {
     "ename": "error",
     "evalue": "OpenCV(4.4.0) C:\\Users\\appveyor\\AppData\\Local\\Temp\\1\\pip-req-build-nxx381if\\opencv\\modules\\imgproc\\src\\resize.cpp:3929: error: (-215:Assertion failed) !ssize.empty() in function 'cv::resize'\n",
     "output_type": "error",
     "traceback": [
      "\u001b[1;31m---------------------------------------------------------------------------\u001b[0m",
      "\u001b[1;31merror\u001b[0m                                     Traceback (most recent call last)",
      "\u001b[1;32m<ipython-input-1-928f00b44b44>\u001b[0m in \u001b[0;36m<module>\u001b[1;34m()\u001b[0m\n\u001b[0;32m      6\u001b[0m \u001b[0msize\u001b[0m\u001b[1;33m=\u001b[0m\u001b[1;36m416\u001b[0m\u001b[1;33m\u001b[0m\u001b[1;33m\u001b[0m\u001b[0m\n\u001b[0;32m      7\u001b[0m \u001b[0mimg\u001b[0m \u001b[1;33m=\u001b[0m \u001b[0mcv2\u001b[0m\u001b[1;33m.\u001b[0m\u001b[0mimread\u001b[0m\u001b[1;33m(\u001b[0m\u001b[1;34mr\"‪D:\\123.jpg\"\u001b[0m\u001b[1;33m)\u001b[0m\u001b[1;33m\u001b[0m\u001b[1;33m\u001b[0m\u001b[0m\n\u001b[1;32m----> 8\u001b[1;33m \u001b[0mpic\u001b[0m \u001b[1;33m=\u001b[0m \u001b[0mcv2\u001b[0m\u001b[1;33m.\u001b[0m\u001b[0mresize\u001b[0m\u001b[1;33m(\u001b[0m\u001b[0mimg\u001b[0m\u001b[1;33m,\u001b[0m \u001b[1;33m(\u001b[0m\u001b[0msize\u001b[0m\u001b[1;33m,\u001b[0m\u001b[0msize\u001b[0m\u001b[1;33m)\u001b[0m \u001b[1;33m,\u001b[0m \u001b[0minterpolation\u001b[0m\u001b[1;33m=\u001b[0m\u001b[0mcv2\u001b[0m\u001b[1;33m.\u001b[0m\u001b[0mINTER_CUBIC\u001b[0m\u001b[1;33m)\u001b[0m             \u001b[1;31m#直接指定大小\u001b[0m\u001b[1;33m\u001b[0m\u001b[1;33m\u001b[0m\u001b[0m\n\u001b[0m\u001b[0;32m      9\u001b[0m \u001b[0mcv2\u001b[0m\u001b[1;33m.\u001b[0m\u001b[0mimwrite\u001b[0m\u001b[1;33m(\u001b[0m\u001b[1;34mr\"‪D:\\1234.jpg\"\u001b[0m\u001b[1;33m,\u001b[0m \u001b[0mpic\u001b[0m\u001b[1;33m)\u001b[0m\u001b[1;33m\u001b[0m\u001b[1;33m\u001b[0m\u001b[0m\n",
      "\u001b[1;31merror\u001b[0m: OpenCV(4.4.0) C:\\Users\\appveyor\\AppData\\Local\\Temp\\1\\pip-req-build-nxx381if\\opencv\\modules\\imgproc\\src\\resize.cpp:3929: error: (-215:Assertion failed) !ssize.empty() in function 'cv::resize'\n"
     ]
    }
   ],
   "source": [
    "import cv2\n",
    "import os\n",
    "import random\n",
    "import numpy as np\n",
    "\n",
    "size=416\n",
    "img = cv2.imread(r\"‪D:\\123.jpg\")\n",
    "pic = cv2.resize(img, (size,size) , interpolation=cv2.INTER_CUBIC)             #直接指定大小\n",
    "cv2.imwrite(r\"‪D:\\1234.jpg\", pic)"
   ]
  },
  {
   "cell_type": "code",
   "execution_count": 2,
   "metadata": {},
   "outputs": [
    {
     "name": "stdout",
     "output_type": "stream",
     "text": [
      "finish\n",
      "total number:1\n"
     ]
    }
   ],
   "source": [
    "import cv2\n",
    "import os\n",
    "import random\n",
    "import numpy as np\n",
    "\n",
    "# 修改路徑\n",
    "directory_name=r\"D:\\test\"\n",
    "new_directory_name=r'D:\\test1'\n",
    "\n",
    "scale=2\n",
    "size=416\n",
    "\n",
    "count=0\n",
    "for filename in os.listdir(directory_name):\n",
    "    \n",
    "    count=count+1\n",
    "    \n",
    "    img = cv2.imread(directory_name + \"/\" + filename)\n",
    "    #pic = cv2.resize(img, None, fx=scale, fy=scale, interpolation=cv2.INTER_CUBIC)  #按比例縮放(fx,fy)\n",
    "    pic = cv2.resize(img, (size,size) , interpolation=cv2.INTER_CUBIC)             #直接指定大小\n",
    "    cv2.imwrite(new_directory_name + \"/\" + filename, pic)\n",
    "    \n",
    "print(\"finish\")\n",
    "print(f\"total number:{count}\")"
   ]
  },
  {
   "cell_type": "code",
   "execution_count": null,
   "metadata": {
    "collapsed": true
   },
   "outputs": [],
   "source": [
    "import cv2\n",
    "import os\n",
    "import random\n",
    "import numpy as np\n",
    "\n",
    "# 修改路徑\n",
    "directory_name=\"D:\\\\new_train\\\\new_trainB\"\n",
    "new_directory_name='D:\\\\mango_ISR\\\\predict\\\\rrdn_epoch42\\\\train_B'\n",
    "\n",
    "scale=1/2\n",
    "\n",
    "count=0\n",
    "for filename in os.listdir(directory_name):\n",
    "    \n",
    "    count=count+1\n",
    "    \n",
    "    img = cv2.imread(directory_name + \"/\" + filename)\n",
    "    pic = cv2.resize(img, None, fx=scale, fy=scale, interpolation=cv2.INTER_CUBIC)  #按比例縮放(fx,fy)\n",
    "    #pic = cv2.resize(img, (512,512) , interpolation=cv2.INTER_CUBIC)             #直接指定大小\n",
    "    cv2.imwrite(new_directory_name + \"/\" + filename, pic)\n",
    "    \n",
    "print(\"finish\")\n",
    "print(f\"total number:{count}\")"
   ]
  },
  {
   "cell_type": "markdown",
   "metadata": {},
   "source": [
    "# 反轉圖像顏色"
   ]
  },
  {
   "cell_type": "code",
   "execution_count": null,
   "metadata": {
    "collapsed": true
   },
   "outputs": [],
   "source": [
    "import cv2\n",
    "# opencv读取图像\n",
    "img = cv2.imread('D:\\\\test2\\\\2020_07_04_18_27_11.bmp', 1)\n",
    "img_shape = img.shape  # 图像大小(565, 650, 3)\n",
    "print(img_shape)\n",
    "h = img_shape[0]\n",
    "w = img_shape[1]\n",
    "# 彩色图像转换为灰度图像（3通道变为1通道）\n",
    "gray = cv2.cvtColor(img, cv2.COLOR_BGR2GRAY)\n",
    "print(gray.shape)\n",
    "# 最大图像灰度值减去原图像，即可得到反转的图像\n",
    "dst = 255 - gray\n",
    "\n",
    "cv2.imwrite(\"D:/test3\" + \"/\" + \"b.bmp\", dst)"
   ]
  },
  {
   "cell_type": "markdown",
   "metadata": {},
   "source": [
    "## adaptiveThreshold"
   ]
  },
  {
   "cell_type": "code",
   "execution_count": null,
   "metadata": {
    "collapsed": true
   },
   "outputs": [],
   "source": [
    "import cv2\n",
    "from PIL import Image\n",
    "import PIL.ImageOps    \n",
    "from matplotlib.pyplot import imshow\n",
    "import numpy as np\n",
    "import os\n",
    "\n",
    "\n",
    "\n",
    "\n",
    "# 修改路徑\n",
    "directory_name= r\"D:\\OCR\\id\\final_test\\error_id\\fakeE_trueF\"\n",
    "new_directory_name= r'D:\\OCR\\id\\final_test\\new_F'\n",
    "\n",
    "\n",
    "\n",
    "count=0\n",
    "for filename in os.listdir(directory_name):   \n",
    "    count=count+1 \n",
    "    \n",
    "    original = cv2.imread(directory_name + \"/\" + filename,0)\n",
    "    \n",
    "    #thresh2 = cv2.adaptiveThreshold(src, maxval, thresh_type, type, Block Size, C)\n",
    "    #cv2.ADAPTIVE_THRESH_MEAN_C ; cv2.ADAPTIVE_THRESH_GAUSSIAN_C\n",
    "    #cv2.THRESH_BINARY ; cv2.THRESH_BINARY_INV ; cv2.THRESH_TRUNC ; cv2.THRESH_TOZERO ; cv2.THRESH_TOZERO_INV\n",
    "    thresh2=cv2.adaptiveThreshold(original,255,cv2.ADAPTIVE_THRESH_MEAN_C,cv2.THRESH_BINARY,19,2)\n",
    "    \n",
    "    cv2.imwrite(new_directory_name + \"/\" + filename, thresh2)\n",
    "    \n",
    "print(\"finish\")\n",
    "print(f\"total number:{count}\")\n"
   ]
  },
  {
   "cell_type": "markdown",
   "metadata": {},
   "source": [
    "# 光照平滑度"
   ]
  },
  {
   "cell_type": "code",
   "execution_count": null,
   "metadata": {
    "collapsed": true
   },
   "outputs": [],
   "source": [
    "import cv2\n",
    "import numpy as np\n",
    "import os\n",
    "\n",
    "def unevenLightCompensate(img, blockSize):\n",
    "    gray = cv2.cvtColor(img, cv2.COLOR_BGR2GRAY)\n",
    "    average = np.mean(gray)\n",
    "\n",
    "    rows_new = int(np.ceil(gray.shape[0] / blockSize))\n",
    "    cols_new = int(np.ceil(gray.shape[1] / blockSize))\n",
    "\n",
    "    blockImage = np.zeros((rows_new, cols_new), dtype=np.float32)\n",
    "    for r in range(rows_new):\n",
    "        for c in range(cols_new):\n",
    "            rowmin = r * blockSize\n",
    "            rowmax = (r + 1) * blockSize\n",
    "            if (rowmax > gray.shape[0]):\n",
    "                rowmax = gray.shape[0]\n",
    "            colmin = c * blockSize\n",
    "            colmax = (c + 1) * blockSize\n",
    "            if (colmax > gray.shape[1]):\n",
    "                colmax = gray.shape[1]\n",
    "\n",
    "            imageROI = gray[rowmin:rowmax, colmin:colmax]\n",
    "            temaver = np.mean(imageROI)\n",
    "            blockImage[r, c] = temaver\n",
    "\n",
    "    blockImage = blockImage - average\n",
    "    blockImage2 = cv2.resize(blockImage, (gray.shape[1], gray.shape[0]), interpolation=cv2.INTER_CUBIC)\n",
    "    gray2 = gray.astype(np.float32)\n",
    "    dst = gray2 - blockImage2\n",
    "    dst = dst.astype(np.uint8)\n",
    "    dst = cv2.GaussianBlur(dst, (3,3), 0)\n",
    "    dst = cv2.cvtColor(dst, cv2.COLOR_GRAY2BGR)\n",
    "\n",
    "    return dst\n",
    "\n",
    "if __name__ == '__main__':\n",
    "    \n",
    "    \n",
    "    # 修改路徑\n",
    "    directory_name= r\"D:\\OCR\\id\\final_test\\error_id\\fakeB_trueF\"\n",
    "    new_directory_name= r'D:\\OCR\\id\\final_test\\new'\n",
    "\n",
    "    blockSize = 200  #調整平滑度\n",
    "\n",
    "    count=0\n",
    "    for filename in os.listdir(directory_name):\n",
    "    \n",
    "        count=count+1\n",
    "        \n",
    "        img = cv2.imread(directory_name + \"/\" + filename)  \n",
    "        dst = unevenLightCompensate(img, blockSize)\n",
    "        cv2.imwrite(new_directory_name + \"/\" + filename, dst)\n",
    "    \n",
    "print(\"finish\")\n",
    "print(f\"total number:{count}\")\n"
   ]
  },
  {
   "cell_type": "markdown",
   "metadata": {},
   "source": [
    "# albumentations"
   ]
  },
  {
   "cell_type": "code",
   "execution_count": null,
   "metadata": {
    "collapsed": true
   },
   "outputs": [],
   "source": [
    "import albumentations\n",
    "import cv2\n",
    "from PIL import Image, ImageDraw\n",
    "import numpy as np \n",
    "from albumentations import (GridDropout,ChannelShuffle,RGBShift,PadIfNeeded,Blur,Flip,ShiftScaleRotate,GridDistortion,ElasticTransform,HorizontalFlip,CenterCrop,\n",
    "                            HueSaturationValue,Transpose,RandomBrightnessContrast,CLAHE,RandomCrop,Cutout,CoarseDropout,\n",
    "                            CoarseDropout,Normalize,ToFloat,OneOf,Compose,Resize,RandomRain,RandomFog,Lambda\n",
    "                            ,ChannelDropout,ISONoise,VerticalFlip,RandomGamma,RandomRotate90)\n",
    "import matplotlib.pyplot as plt\n"
   ]
  },
  {
   "cell_type": "code",
   "execution_count": null,
   "metadata": {
    "collapsed": true
   },
   "outputs": [],
   "source": [
    "b = 'D:\\\\OCR\\\\\\id\\\\data_albumentations\\\\cutout\\\\train\\\\cutout_2020_07_10_01_36_28.bmp'\n",
    "def imread(image):\n",
    "    image=cv2.imread(image)\n",
    "    image=cv2.cvtColor(image,cv2.COLOR_BGR2RGB)\n",
    "    image=image.astype(np.uint8)\n",
    "    return np.array(image)\n",
    "\n",
    "def show(image):\n",
    "    plt.imshow(image)\n",
    "    plt.axis('off')\n",
    "    plt.show()\n",
    "a =imread(b)\n",
    "img1 =Resize(416,416,p=1)(image=a)['image']\n",
    "\n",
    "show(a)\n",
    "show(img1)"
   ]
  },
  {
   "cell_type": "code",
   "execution_count": null,
   "metadata": {
    "collapsed": true
   },
   "outputs": [],
   "source": [
    "img2=VerticalFlip(always_apply=True, p=0.5)(image=a)['image']\n",
    "show(a)\n",
    "show(img2)"
   ]
  },
  {
   "cell_type": "code",
   "execution_count": null,
   "metadata": {
    "collapsed": true
   },
   "outputs": [],
   "source": [
    "img3=GridDistortion(num_steps=5, distort_limit=0.3, interpolation=1, border_mode=3, value=None, mask_value=None, always_apply=True, p=0.5)(image=a)['image']\n",
    "show(a)\n",
    "show(img3)"
   ]
  },
  {
   "cell_type": "code",
   "execution_count": null,
   "metadata": {
    "collapsed": true
   },
   "outputs": [],
   "source": [
    "img4=ElasticTransform(alpha=1, sigma=50, alpha_affine=50, interpolation=1, border_mode=4, value=None, mask_value=None, always_apply=False, approximate=False, p=0.5)(image=a)['image']\n",
    "show(a)\n",
    "show(img4)"
   ]
  },
  {
   "cell_type": "code",
   "execution_count": null,
   "metadata": {
    "collapsed": true
   },
   "outputs": [],
   "source": [
    "img5=RGBShift(r_shift_limit=20, g_shift_limit=20, b_shift_limit=20, always_apply=True, p=0.5)(image=a)['image']\n",
    "show(a)\n",
    "show(img5)"
   ]
  },
  {
   "cell_type": "code",
   "execution_count": null,
   "metadata": {
    "collapsed": true
   },
   "outputs": [],
   "source": [
    "img6=ChannelShuffle(always_apply=True, p=1)(image=a)['image']\n",
    "show(a)\n",
    "show(img6)"
   ]
  },
  {
   "cell_type": "code",
   "execution_count": null,
   "metadata": {
    "collapsed": true
   },
   "outputs": [],
   "source": [
    "img7=Cutout(num_holes=10, max_h_size=10, max_w_size=8, fill_value=0, always_apply=True, p=0.5)(image=a)['image']\n",
    "show(a)\n",
    "show(img7)"
   ]
  },
  {
   "cell_type": "code",
   "execution_count": null,
   "metadata": {
    "collapsed": true
   },
   "outputs": [],
   "source": [
    "img8=RandomFog(fog_coef_lower=0.3, fog_coef_upper=1, alpha_coef=0.08, always_apply=True, p=0.5)(image=a)['image']\n",
    "show(a)\n",
    "show(img8)"
   ]
  },
  {
   "cell_type": "code",
   "execution_count": null,
   "metadata": {
    "collapsed": true
   },
   "outputs": [],
   "source": [
    "img9=GridDropout(ratio=0.3, unit_size_min=None, unit_size_max=None, holes_number_x=None, holes_number_y=None, shift_x=0, shift_y=0, random_offset=False, fill_value=0, mask_fill_value=None, always_apply=True, p=0.5)(image=a)['image']\n",
    "show(a)\n",
    "show(img9) "
   ]
  },
  {
   "cell_type": "code",
   "execution_count": null,
   "metadata": {
    "collapsed": true
   },
   "outputs": [],
   "source": [
    "imgq=GridDistortion(num_steps=5, distort_limit=0.3, interpolation=1, border_mode=4, value=None, mask_value=None, always_apply=True, p=0.5)(image=a)['image']\n",
    "show(a)\n",
    "show(imgq)"
   ]
  },
  {
   "cell_type": "code",
   "execution_count": null,
   "metadata": {
    "collapsed": true
   },
   "outputs": [],
   "source": [
    "import cv2\n",
    "import os\n",
    "import random\n",
    "import numpy as np\n",
    "\n",
    "\n",
    "# 修改路徑\n",
    "directory_name=\"D:\\\\OCR\\\\id\\\\data_original\\\\image\\\\img_val\"\n",
    "new_directory_name=\"D:\\\\OCR\\\\id\\\\data_albumentations\\\\rgbshift\\\\val20\"\n",
    "\n",
    "count=0\n",
    "for filename in os.listdir(directory_name):\n",
    "    \n",
    "    count=count+1\n",
    "    \n",
    "    image = cv2.imread(directory_name + \"/\" + filename)\n",
    "    img5=RGBShift(r_shift_limit=20, g_shift_limit=20, b_shift_limit=20, always_apply=True, p=0.5)(image=image)['image']\n",
    "    cv2.imwrite(new_directory_name + \"/\" +\"rgbshift20_\"+filename,img5)\n",
    "    \n",
    "print(\"finish\")\n",
    "print(f\"total number:{count}\")\n"
   ]
  },
  {
   "cell_type": "markdown",
   "metadata": {},
   "source": [
    "## Histogram Equalization"
   ]
  },
  {
   "cell_type": "code",
   "execution_count": null,
   "metadata": {
    "collapsed": true
   },
   "outputs": [],
   "source": [
    "import argparse\n",
    "import cv2\n",
    "import numpy as np\n",
    "from matplotlib import pyplot as plt\n",
    "from PIL import Image\n",
    "from pylab import *\n",
    "\n",
    "image = cv2.imread(r\"D:\\OCR\\id\\final_test\\error_id\\fake1_true7\\2020_08_02_23_29_46_4.jpg\")\n",
    "\n",
    "\n",
    "gray = cv2.cvtColor(image, cv2.COLOR_BGR2GRAY)\n",
    "gray_rgb = Image.fromarray(cv2.cvtColor(gray,cv2.COLOR_BGR2RGB))\n",
    "eq = cv2.equalizeHist(gray)\n",
    "eq_rgb = Image.fromarray(cv2.cvtColor(eq,cv2.COLOR_BGR2RGB))\n",
    "\n",
    "plt.figure(figsize=(1.5,1.5))\n",
    "plt.title('original',fontsize=12,color=\"black\")\n",
    "plt.imshow(gray_rgb) # 顯示圖片\n",
    "plt.axis('on') # 顯示座標軸\n",
    "plt.show()\n",
    "\n",
    "plt.figure(figsize=(1.5,1.5))\n",
    "plt.title('eq',fontsize=12,color=\"black\")\n",
    "plt.imshow(eq_rgb) # 顯示圖片\n",
    "plt.axis('on') # 顯示座標軸\n",
    "plt.show()\n",
    "\n",
    "cv2.imwrite(r\"D:\\OCR\\id\\final_test\\7777.jpg\",eq)"
   ]
  },
  {
   "cell_type": "markdown",
   "metadata": {
    "collapsed": true
   },
   "source": [
    "## Adaptive Histogram Equalization"
   ]
  },
  {
   "cell_type": "code",
   "execution_count": null,
   "metadata": {
    "collapsed": true
   },
   "outputs": [],
   "source": [
    "import argparse\n",
    "import cv2\n",
    "import numpy as np\n",
    "from matplotlib import pyplot as plt\n",
    "from PIL import Image\n",
    "from pylab import *\n",
    "\n",
    "image = cv2.imread(r\"D:\\OCR\\id\\final_test\\error_id\\fake1_true7\\2020_08_02_23_29_46_4.jpg\")\n",
    "\n",
    "\n",
    "gray = cv2.cvtColor(image, cv2.COLOR_BGR2GRAY)\n",
    "gray_rgb = Image.fromarray(cv2.cvtColor(gray,cv2.COLOR_BGR2RGB))\n",
    "clahe = cv2.createCLAHE(clipLimit=2.0, tileGridSize=(2,2))\n",
    "cl1 = clahe.apply(gray)\n",
    "cl1_rgb = Image.fromarray(cv2.cvtColor(cl1,cv2.COLOR_BGR2RGB))\n",
    "\n",
    "\n",
    "plt.figure()\n",
    "subplot(221)\n",
    "imshow(gray_rgb)\n",
    "title('original')\n",
    "axis('off')\n",
    "subplot(222)\n",
    "imshow(cl1_rgb)\n",
    "title('c l')\n",
    "axis('off')\n",
    "plt.show()\n",
    "\n",
    "cv2.imwrite(r\"D:\\OCR\\id\\final_test\\eq.jpg\",cl1)"
   ]
  },
  {
   "cell_type": "code",
   "execution_count": null,
   "metadata": {
    "collapsed": true
   },
   "outputs": [],
   "source": []
  }
 ],
 "metadata": {
  "kernelspec": {
   "display_name": "Python 3 (ipykernel)",
   "language": "python",
   "name": "python3"
  },
  "language_info": {
   "codemirror_mode": {
    "name": "ipython",
    "version": 3
   },
   "file_extension": ".py",
   "mimetype": "text/x-python",
   "name": "python",
   "nbconvert_exporter": "python",
   "pygments_lexer": "ipython3",
   "version": "3.8.12"
  }
 },
 "nbformat": 4,
 "nbformat_minor": 2
}
